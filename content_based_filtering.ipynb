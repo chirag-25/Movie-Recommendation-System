{
<<<<<<< HEAD
  "cells": [
    {
      "cell_type": "code",
      "execution_count": null,
      "metadata": {
        "colab": {
          "background_save": true,
          "base_uri": "https://localhost:8080/"
        },
        "id": "xt4wyprtsR2g",
        "outputId": "1de54b80-3b2f-4d7c-ee45-bba4ff1748ef"
      },
      "outputs": [
        {
          "name": "stdout",
          "output_type": "stream",
          "text": [
            "Mounted at /content/drive\n"
          ]
        }
      ],
      "source": [
        "from google.colab import drive\n",
        "drive.mount('/content/drive')"
      ]
    },
    {
      "cell_type": "code",
      "execution_count": null,
      "metadata": {
        "id": "yqLVrg2jrs0d"
      },
      "outputs": [],
      "source": [
        "import numpy as np\n",
        "import pandas as pd\n",
        "from wordcloud import WordCloud\n",
        "import matplotlib.pyplot as plt\n",
        "import seaborn as sns\n",
        "from sklearn.model_selection import train_test_split\n",
        "import warnings\n",
        "warnings.filterwarnings('ignore')"
      ]
    },
    {
      "cell_type": "code",
      "execution_count": null,
      "metadata": {
        "colab": {
          "base_uri": "https://localhost:8080/",
          "height": 629
        },
        "id": "GICm-vihrs0k",
        "outputId": "5bb2d6c5-e1ba-41df-9972-db54ff0bc4d4"
      },
      "outputs": [
        {
          "data": {
            "text/html": [
              "\n",
              "  <div id=\"df-096b9ab1-337c-4e2b-8c5d-2984e0e9b192\">\n",
              "    <div class=\"colab-df-container\">\n",
              "      <div>\n",
              "<style scoped>\n",
              "    .dataframe tbody tr th:only-of-type {\n",
              "        vertical-align: middle;\n",
              "    }\n",
              "\n",
              "    .dataframe tbody tr th {\n",
              "        vertical-align: top;\n",
              "    }\n",
              "\n",
              "    .dataframe thead th {\n",
              "        text-align: right;\n",
              "    }\n",
              "</style>\n",
              "<table border=\"1\" class=\"dataframe\">\n",
              "  <thead>\n",
              "    <tr style=\"text-align: right;\">\n",
              "      <th></th>\n",
              "      <th>movieId</th>\n",
              "      <th>imdbId</th>\n",
              "      <th>tmdbId</th>\n",
              "      <th>cast</th>\n",
              "      <th>crew</th>\n",
              "      <th>director</th>\n",
              "      <th>keywords</th>\n",
              "      <th>adult</th>\n",
              "      <th>belongs_to_collection</th>\n",
              "      <th>budget</th>\n",
              "      <th>...</th>\n",
              "      <th>revenue</th>\n",
              "      <th>runtime</th>\n",
              "      <th>spoken_languages</th>\n",
              "      <th>status</th>\n",
              "      <th>tagline</th>\n",
              "      <th>title</th>\n",
              "      <th>video</th>\n",
              "      <th>vote_average</th>\n",
              "      <th>vote_count</th>\n",
              "      <th>year</th>\n",
              "    </tr>\n",
              "  </thead>\n",
              "  <tbody>\n",
              "    <tr>\n",
              "      <th>0</th>\n",
              "      <td>1</td>\n",
              "      <td>114709</td>\n",
              "      <td>862.0</td>\n",
              "      <td>Tom Hanks|Tim Allen|Don Rickles|Jim Varney|Wal...</td>\n",
              "      <td>[{'credit_id': '52fe4284c3a36847f8024f49', 'de...</td>\n",
              "      <td>John Lasseter</td>\n",
              "      <td>jealousy|toy|boy|friendship|friends|rivalry|bo...</td>\n",
              "      <td>False</td>\n",
              "      <td>Toy Story Collection</td>\n",
              "      <td>30000000</td>\n",
              "      <td>...</td>\n",
              "      <td>373554033.0</td>\n",
              "      <td>81.0</td>\n",
              "      <td>English</td>\n",
              "      <td>Released</td>\n",
              "      <td>NaN</td>\n",
              "      <td>Toy Story</td>\n",
              "      <td>False</td>\n",
              "      <td>7.7</td>\n",
              "      <td>5415.0</td>\n",
              "      <td>1995</td>\n",
              "    </tr>\n",
              "    <tr>\n",
              "      <th>1</th>\n",
              "      <td>2</td>\n",
              "      <td>113497</td>\n",
              "      <td>8844.0</td>\n",
              "      <td>Robin Williams|Jonathan Hyde|Kirsten Dunst|Bra...</td>\n",
              "      <td>[{'credit_id': '52fe44bfc3a36847f80a7cd1', 'de...</td>\n",
              "      <td>Joe Johnston</td>\n",
              "      <td>board game|disappearance|based on children's b...</td>\n",
              "      <td>False</td>\n",
              "      <td>NaN</td>\n",
              "      <td>65000000</td>\n",
              "      <td>...</td>\n",
              "      <td>262797249.0</td>\n",
              "      <td>104.0</td>\n",
              "      <td>English|Français</td>\n",
              "      <td>Released</td>\n",
              "      <td>Roll the dice and unleash the excitement!</td>\n",
              "      <td>Jumanji</td>\n",
              "      <td>False</td>\n",
              "      <td>6.9</td>\n",
              "      <td>2413.0</td>\n",
              "      <td>1995</td>\n",
              "    </tr>\n",
              "    <tr>\n",
              "      <th>2</th>\n",
              "      <td>3</td>\n",
              "      <td>113228</td>\n",
              "      <td>15602.0</td>\n",
              "      <td>Walter Matthau|Jack Lemmon|Ann-Margret|Sophia ...</td>\n",
              "      <td>[{'credit_id': '52fe466a9251416c75077a89', 'de...</td>\n",
              "      <td>Howard Deutch</td>\n",
              "      <td>fishing|best friend|duringcreditsstinger|old men</td>\n",
              "      <td>False</td>\n",
              "      <td>Grumpy Old Men Collection</td>\n",
              "      <td>0</td>\n",
              "      <td>...</td>\n",
              "      <td>0.0</td>\n",
              "      <td>101.0</td>\n",
              "      <td>English</td>\n",
              "      <td>Released</td>\n",
              "      <td>Still Yelling. Still Fighting. Still Ready for...</td>\n",
              "      <td>Grumpier Old Men</td>\n",
              "      <td>False</td>\n",
              "      <td>6.5</td>\n",
              "      <td>92.0</td>\n",
              "      <td>1995</td>\n",
              "    </tr>\n",
              "    <tr>\n",
              "      <th>3</th>\n",
              "      <td>4</td>\n",
              "      <td>114885</td>\n",
              "      <td>31357.0</td>\n",
              "      <td>Whitney Houston|Angela Bassett|Loretta Devine|...</td>\n",
              "      <td>[{'credit_id': '52fe44779251416c91011acb', 'de...</td>\n",
              "      <td>Forest Whitaker</td>\n",
              "      <td>based on novel|interracial relationship|single...</td>\n",
              "      <td>False</td>\n",
              "      <td>NaN</td>\n",
              "      <td>16000000</td>\n",
              "      <td>...</td>\n",
              "      <td>81452156.0</td>\n",
              "      <td>127.0</td>\n",
              "      <td>English</td>\n",
              "      <td>Released</td>\n",
              "      <td>Friends are the people who let you be yourself...</td>\n",
              "      <td>Waiting to Exhale</td>\n",
              "      <td>False</td>\n",
              "      <td>6.1</td>\n",
              "      <td>34.0</td>\n",
              "      <td>1995</td>\n",
              "    </tr>\n",
              "    <tr>\n",
              "      <th>4</th>\n",
              "      <td>5</td>\n",
              "      <td>113041</td>\n",
              "      <td>11862.0</td>\n",
              "      <td>Steve Martin|Diane Keaton|Martin Short|Kimberl...</td>\n",
              "      <td>[{'credit_id': '52fe44959251416c75039ed7', 'de...</td>\n",
              "      <td>Charles Shyer</td>\n",
              "      <td>baby|midlife crisis|confidence|aging|daughter|...</td>\n",
              "      <td>False</td>\n",
              "      <td>Father of the Bride Collection</td>\n",
              "      <td>0</td>\n",
              "      <td>...</td>\n",
              "      <td>76578911.0</td>\n",
              "      <td>106.0</td>\n",
              "      <td>English</td>\n",
              "      <td>Released</td>\n",
              "      <td>Just When His World Is Back To Normal... He's ...</td>\n",
              "      <td>Father of the Bride Part II</td>\n",
              "      <td>False</td>\n",
              "      <td>5.7</td>\n",
              "      <td>173.0</td>\n",
              "      <td>1995</td>\n",
              "    </tr>\n",
              "  </tbody>\n",
              "</table>\n",
              "<p>5 rows × 31 columns</p>\n",
              "</div>\n",
              "      <button class=\"colab-df-convert\" onclick=\"convertToInteractive('df-096b9ab1-337c-4e2b-8c5d-2984e0e9b192')\"\n",
              "              title=\"Convert this dataframe to an interactive table.\"\n",
              "              style=\"display:none;\">\n",
              "        \n",
              "  <svg xmlns=\"http://www.w3.org/2000/svg\" height=\"24px\"viewBox=\"0 0 24 24\"\n",
              "       width=\"24px\">\n",
              "    <path d=\"M0 0h24v24H0V0z\" fill=\"none\"/>\n",
              "    <path d=\"M18.56 5.44l.94 2.06.94-2.06 2.06-.94-2.06-.94-.94-2.06-.94 2.06-2.06.94zm-11 1L8.5 8.5l.94-2.06 2.06-.94-2.06-.94L8.5 2.5l-.94 2.06-2.06.94zm10 10l.94 2.06.94-2.06 2.06-.94-2.06-.94-.94-2.06-.94 2.06-2.06.94z\"/><path d=\"M17.41 7.96l-1.37-1.37c-.4-.4-.92-.59-1.43-.59-.52 0-1.04.2-1.43.59L10.3 9.45l-7.72 7.72c-.78.78-.78 2.05 0 2.83L4 21.41c.39.39.9.59 1.41.59.51 0 1.02-.2 1.41-.59l7.78-7.78 2.81-2.81c.8-.78.8-2.07 0-2.86zM5.41 20L4 18.59l7.72-7.72 1.47 1.35L5.41 20z\"/>\n",
              "  </svg>\n",
              "      </button>\n",
              "      \n",
              "  <style>\n",
              "    .colab-df-container {\n",
              "      display:flex;\n",
              "      flex-wrap:wrap;\n",
              "      gap: 12px;\n",
              "    }\n",
              "\n",
              "    .colab-df-convert {\n",
              "      background-color: #E8F0FE;\n",
              "      border: none;\n",
              "      border-radius: 50%;\n",
              "      cursor: pointer;\n",
              "      display: none;\n",
              "      fill: #1967D2;\n",
              "      height: 32px;\n",
              "      padding: 0 0 0 0;\n",
              "      width: 32px;\n",
              "    }\n",
              "\n",
              "    .colab-df-convert:hover {\n",
              "      background-color: #E2EBFA;\n",
              "      box-shadow: 0px 1px 2px rgba(60, 64, 67, 0.3), 0px 1px 3px 1px rgba(60, 64, 67, 0.15);\n",
              "      fill: #174EA6;\n",
              "    }\n",
              "\n",
              "    [theme=dark] .colab-df-convert {\n",
              "      background-color: #3B4455;\n",
              "      fill: #D2E3FC;\n",
              "    }\n",
              "\n",
              "    [theme=dark] .colab-df-convert:hover {\n",
              "      background-color: #434B5C;\n",
              "      box-shadow: 0px 1px 3px 1px rgba(0, 0, 0, 0.15);\n",
              "      filter: drop-shadow(0px 1px 2px rgba(0, 0, 0, 0.3));\n",
              "      fill: #FFFFFF;\n",
              "    }\n",
              "  </style>\n",
              "\n",
              "      <script>\n",
              "        const buttonEl =\n",
              "          document.querySelector('#df-096b9ab1-337c-4e2b-8c5d-2984e0e9b192 button.colab-df-convert');\n",
              "        buttonEl.style.display =\n",
              "          google.colab.kernel.accessAllowed ? 'block' : 'none';\n",
              "\n",
              "        async function convertToInteractive(key) {\n",
              "          const element = document.querySelector('#df-096b9ab1-337c-4e2b-8c5d-2984e0e9b192');\n",
              "          const dataTable =\n",
              "            await google.colab.kernel.invokeFunction('convertToInteractive',\n",
              "                                                     [key], {});\n",
              "          if (!dataTable) return;\n",
              "\n",
              "          const docLinkHtml = 'Like what you see? Visit the ' +\n",
              "            '<a target=\"_blank\" href=https://colab.research.google.com/notebooks/data_table.ipynb>data table notebook</a>'\n",
              "            + ' to learn more about interactive tables.';\n",
              "          element.innerHTML = '';\n",
              "          dataTable['output_type'] = 'display_data';\n",
              "          await google.colab.output.renderOutput(dataTable, element);\n",
              "          const docLink = document.createElement('div');\n",
              "          docLink.innerHTML = docLinkHtml;\n",
              "          element.appendChild(docLink);\n",
              "        }\n",
              "      </script>\n",
              "    </div>\n",
              "  </div>\n",
              "  "
            ],
            "text/plain": [
              "   movieId  imdbId   tmdbId  \\\n",
              "0        1  114709    862.0   \n",
              "1        2  113497   8844.0   \n",
              "2        3  113228  15602.0   \n",
              "3        4  114885  31357.0   \n",
              "4        5  113041  11862.0   \n",
              "\n",
              "                                                cast  \\\n",
              "0  Tom Hanks|Tim Allen|Don Rickles|Jim Varney|Wal...   \n",
              "1  Robin Williams|Jonathan Hyde|Kirsten Dunst|Bra...   \n",
              "2  Walter Matthau|Jack Lemmon|Ann-Margret|Sophia ...   \n",
              "3  Whitney Houston|Angela Bassett|Loretta Devine|...   \n",
              "4  Steve Martin|Diane Keaton|Martin Short|Kimberl...   \n",
              "\n",
              "                                                crew         director  \\\n",
              "0  [{'credit_id': '52fe4284c3a36847f8024f49', 'de...    John Lasseter   \n",
              "1  [{'credit_id': '52fe44bfc3a36847f80a7cd1', 'de...     Joe Johnston   \n",
              "2  [{'credit_id': '52fe466a9251416c75077a89', 'de...    Howard Deutch   \n",
              "3  [{'credit_id': '52fe44779251416c91011acb', 'de...  Forest Whitaker   \n",
              "4  [{'credit_id': '52fe44959251416c75039ed7', 'de...    Charles Shyer   \n",
              "\n",
              "                                            keywords  adult  \\\n",
              "0  jealousy|toy|boy|friendship|friends|rivalry|bo...  False   \n",
              "1  board game|disappearance|based on children's b...  False   \n",
              "2   fishing|best friend|duringcreditsstinger|old men  False   \n",
              "3  based on novel|interracial relationship|single...  False   \n",
              "4  baby|midlife crisis|confidence|aging|daughter|...  False   \n",
              "\n",
              "            belongs_to_collection    budget  ...      revenue runtime  \\\n",
              "0            Toy Story Collection  30000000  ...  373554033.0    81.0   \n",
              "1                             NaN  65000000  ...  262797249.0   104.0   \n",
              "2       Grumpy Old Men Collection         0  ...          0.0   101.0   \n",
              "3                             NaN  16000000  ...   81452156.0   127.0   \n",
              "4  Father of the Bride Collection         0  ...   76578911.0   106.0   \n",
              "\n",
              "   spoken_languages    status  \\\n",
              "0           English  Released   \n",
              "1  English|Français  Released   \n",
              "2           English  Released   \n",
              "3           English  Released   \n",
              "4           English  Released   \n",
              "\n",
              "                                             tagline  \\\n",
              "0                                                NaN   \n",
              "1          Roll the dice and unleash the excitement!   \n",
              "2  Still Yelling. Still Fighting. Still Ready for...   \n",
              "3  Friends are the people who let you be yourself...   \n",
              "4  Just When His World Is Back To Normal... He's ...   \n",
              "\n",
              "                         title  video vote_average vote_count  year  \n",
              "0                    Toy Story  False          7.7     5415.0  1995  \n",
              "1                      Jumanji  False          6.9     2413.0  1995  \n",
              "2             Grumpier Old Men  False          6.5       92.0  1995  \n",
              "3            Waiting to Exhale  False          6.1       34.0  1995  \n",
              "4  Father of the Bride Part II  False          5.7      173.0  1995  \n",
              "\n",
              "[5 rows x 31 columns]"
            ]
          },
          "execution_count": 3,
          "metadata": {},
          "output_type": "execute_result"
        }
      ],
      "source": [
        "movies_data = pd.read_csv(\"/content/drive/MyDrive/Github/Movie-Recommendation-System/Movielens dataset/movie_data_final (1).csv\")\n",
        "movies_data.head()"
      ]
    },
    {
      "cell_type": "code",
      "execution_count": null,
      "metadata": {
        "id": "pIk71dQbrs0o"
      },
      "outputs": [],
      "source": [
        "ratings_data = pd.read_csv('/content/drive/MyDrive/Github/Movie-Recommendation-System/Movielens dataset/ratings_final (1).csv')\n",
        "ratings_data.head()\n",
        "ratings_train,ratings_test = train_test_split(ratings_data, test_size = 0.20, random_state = 0)"
      ]
    },
    {
      "cell_type": "code",
      "execution_count": null,
      "metadata": {
        "colab": {
          "base_uri": "https://localhost:8080/"
        },
        "id": "FiZvNHKars0p",
        "outputId": "5af02d36-d09d-4ac6-e157-add8ce3d4e7a"
      },
      "outputs": [
        {
          "name": "stdout",
          "output_type": "stream",
          "text": [
            "Movies_df Shape: (9082, 31)\n",
            "Ratings_df Shape: (95490, 4)\n"
          ]
        }
      ],
      "source": [
        "print('Movies_df Shape:',movies_data.shape)\n",
        "print('Ratings_df Shape:',ratings_data.shape)"
      ]
    },
    {
      "cell_type": "code",
      "execution_count": null,
      "metadata": {
        "colab": {
          "base_uri": "https://localhost:8080/"
        },
        "id": "4KKSaG-vrs0q",
        "outputId": "15e5e131-d52e-44ce-a9b5-d3be84f612c6"
      },
      "outputs": [
        {
          "name": "stdout",
          "output_type": "stream",
          "text": [
            "(9082, 43)\n"
          ]
        }
      ],
      "source": [
        "from sklearn.feature_extraction.text import TfidfVectorizer\n",
        "tfidf = TfidfVectorizer(stop_words='english', min_df=0.005, max_df=0.9)\n",
        "movies_data['director'] = movies_data['director'].fillna('')\n",
        "movies_data['director'] = movies_data['director'].str.replace('|', ' ')\n",
        "tfidf_matrix_director = tfidf.fit_transform(movies_data['director'])\n",
        "print(tfidf_matrix_director.shape)"
      ]
    },
=======
 "cells": [
  {
   "cell_type": "code",
   "execution_count": 1,
   "metadata": {},
   "outputs": [],
   "source": [
    "import numpy as np\n",
    "import pandas as pd\n",
    "from wordcloud import WordCloud\n",
    "import matplotlib.pyplot as plt\n",
    "import seaborn as sns\n",
    "import warnings\n",
    "warnings.filterwarnings('ignore')"
   ]
  },
  {
   "cell_type": "code",
   "execution_count": 32,
   "metadata": {},
   "outputs": [
    {
     "data": {
      "text/html": [
       "<div>\n",
       "<style scoped>\n",
       "    .dataframe tbody tr th:only-of-type {\n",
       "        vertical-align: middle;\n",
       "    }\n",
       "\n",
       "    .dataframe tbody tr th {\n",
       "        vertical-align: top;\n",
       "    }\n",
       "\n",
       "    .dataframe thead th {\n",
       "        text-align: right;\n",
       "    }\n",
       "</style>\n",
       "<table border=\"1\" class=\"dataframe\">\n",
       "  <thead>\n",
       "    <tr style=\"text-align: right;\">\n",
       "      <th></th>\n",
       "      <th>movieId</th>\n",
       "      <th>imdbId</th>\n",
       "      <th>tmdbId</th>\n",
       "      <th>cast</th>\n",
       "      <th>crew</th>\n",
       "      <th>director</th>\n",
       "      <th>keywords</th>\n",
       "      <th>adult</th>\n",
       "      <th>belongs_to_collection</th>\n",
       "      <th>budget</th>\n",
       "      <th>...</th>\n",
       "      <th>revenue</th>\n",
       "      <th>runtime</th>\n",
       "      <th>spoken_languages</th>\n",
       "      <th>status</th>\n",
       "      <th>tagline</th>\n",
       "      <th>title</th>\n",
       "      <th>video</th>\n",
       "      <th>vote_average</th>\n",
       "      <th>vote_count</th>\n",
       "      <th>year</th>\n",
       "    </tr>\n",
       "  </thead>\n",
       "  <tbody>\n",
       "    <tr>\n",
       "      <th>0</th>\n",
       "      <td>1</td>\n",
       "      <td>114709</td>\n",
       "      <td>862.0</td>\n",
       "      <td>Tom Hanks|Tim Allen|Don Rickles|Jim Varney|Wal...</td>\n",
       "      <td>[{'credit_id': '52fe4284c3a36847f8024f49', 'de...</td>\n",
       "      <td>John Lasseter</td>\n",
       "      <td>jealousy|toy|boy|friendship|friends|rivalry|bo...</td>\n",
       "      <td>False</td>\n",
       "      <td>Toy Story Collection</td>\n",
       "      <td>30000000</td>\n",
       "      <td>...</td>\n",
       "      <td>373554033.0</td>\n",
       "      <td>81.0</td>\n",
       "      <td>English</td>\n",
       "      <td>Released</td>\n",
       "      <td>NaN</td>\n",
       "      <td>Toy Story</td>\n",
       "      <td>False</td>\n",
       "      <td>7.7</td>\n",
       "      <td>5415.0</td>\n",
       "      <td>1995</td>\n",
       "    </tr>\n",
       "    <tr>\n",
       "      <th>1</th>\n",
       "      <td>2</td>\n",
       "      <td>113497</td>\n",
       "      <td>8844.0</td>\n",
       "      <td>Robin Williams|Jonathan Hyde|Kirsten Dunst|Bra...</td>\n",
       "      <td>[{'credit_id': '52fe44bfc3a36847f80a7cd1', 'de...</td>\n",
       "      <td>Joe Johnston</td>\n",
       "      <td>board game|disappearance|based on children's b...</td>\n",
       "      <td>False</td>\n",
       "      <td>NaN</td>\n",
       "      <td>65000000</td>\n",
       "      <td>...</td>\n",
       "      <td>262797249.0</td>\n",
       "      <td>104.0</td>\n",
       "      <td>English|Français</td>\n",
       "      <td>Released</td>\n",
       "      <td>Roll the dice and unleash the excitement!</td>\n",
       "      <td>Jumanji</td>\n",
       "      <td>False</td>\n",
       "      <td>6.9</td>\n",
       "      <td>2413.0</td>\n",
       "      <td>1995</td>\n",
       "    </tr>\n",
       "    <tr>\n",
       "      <th>2</th>\n",
       "      <td>3</td>\n",
       "      <td>113228</td>\n",
       "      <td>15602.0</td>\n",
       "      <td>Walter Matthau|Jack Lemmon|Ann-Margret|Sophia ...</td>\n",
       "      <td>[{'credit_id': '52fe466a9251416c75077a89', 'de...</td>\n",
       "      <td>Howard Deutch</td>\n",
       "      <td>fishing|best friend|duringcreditsstinger|old men</td>\n",
       "      <td>False</td>\n",
       "      <td>Grumpy Old Men Collection</td>\n",
       "      <td>0</td>\n",
       "      <td>...</td>\n",
       "      <td>0.0</td>\n",
       "      <td>101.0</td>\n",
       "      <td>English</td>\n",
       "      <td>Released</td>\n",
       "      <td>Still Yelling. Still Fighting. Still Ready for...</td>\n",
       "      <td>Grumpier Old Men</td>\n",
       "      <td>False</td>\n",
       "      <td>6.5</td>\n",
       "      <td>92.0</td>\n",
       "      <td>1995</td>\n",
       "    </tr>\n",
       "    <tr>\n",
       "      <th>3</th>\n",
       "      <td>4</td>\n",
       "      <td>114885</td>\n",
       "      <td>31357.0</td>\n",
       "      <td>Whitney Houston|Angela Bassett|Loretta Devine|...</td>\n",
       "      <td>[{'credit_id': '52fe44779251416c91011acb', 'de...</td>\n",
       "      <td>Forest Whitaker</td>\n",
       "      <td>based on novel|interracial relationship|single...</td>\n",
       "      <td>False</td>\n",
       "      <td>NaN</td>\n",
       "      <td>16000000</td>\n",
       "      <td>...</td>\n",
       "      <td>81452156.0</td>\n",
       "      <td>127.0</td>\n",
       "      <td>English</td>\n",
       "      <td>Released</td>\n",
       "      <td>Friends are the people who let you be yourself...</td>\n",
       "      <td>Waiting to Exhale</td>\n",
       "      <td>False</td>\n",
       "      <td>6.1</td>\n",
       "      <td>34.0</td>\n",
       "      <td>1995</td>\n",
       "    </tr>\n",
       "    <tr>\n",
       "      <th>4</th>\n",
       "      <td>5</td>\n",
       "      <td>113041</td>\n",
       "      <td>11862.0</td>\n",
       "      <td>Steve Martin|Diane Keaton|Martin Short|Kimberl...</td>\n",
       "      <td>[{'credit_id': '52fe44959251416c75039ed7', 'de...</td>\n",
       "      <td>Charles Shyer</td>\n",
       "      <td>baby|midlife crisis|confidence|aging|daughter|...</td>\n",
       "      <td>False</td>\n",
       "      <td>Father of the Bride Collection</td>\n",
       "      <td>0</td>\n",
       "      <td>...</td>\n",
       "      <td>76578911.0</td>\n",
       "      <td>106.0</td>\n",
       "      <td>English</td>\n",
       "      <td>Released</td>\n",
       "      <td>Just When His World Is Back To Normal... He's ...</td>\n",
       "      <td>Father of the Bride Part II</td>\n",
       "      <td>False</td>\n",
       "      <td>5.7</td>\n",
       "      <td>173.0</td>\n",
       "      <td>1995</td>\n",
       "    </tr>\n",
       "  </tbody>\n",
       "</table>\n",
       "<p>5 rows × 31 columns</p>\n",
       "</div>"
      ],
      "text/plain": [
       "   movieId  imdbId   tmdbId  \\\n",
       "0        1  114709    862.0   \n",
       "1        2  113497   8844.0   \n",
       "2        3  113228  15602.0   \n",
       "3        4  114885  31357.0   \n",
       "4        5  113041  11862.0   \n",
       "\n",
       "                                                cast  \\\n",
       "0  Tom Hanks|Tim Allen|Don Rickles|Jim Varney|Wal...   \n",
       "1  Robin Williams|Jonathan Hyde|Kirsten Dunst|Bra...   \n",
       "2  Walter Matthau|Jack Lemmon|Ann-Margret|Sophia ...   \n",
       "3  Whitney Houston|Angela Bassett|Loretta Devine|...   \n",
       "4  Steve Martin|Diane Keaton|Martin Short|Kimberl...   \n",
       "\n",
       "                                                crew         director  \\\n",
       "0  [{'credit_id': '52fe4284c3a36847f8024f49', 'de...    John Lasseter   \n",
       "1  [{'credit_id': '52fe44bfc3a36847f80a7cd1', 'de...     Joe Johnston   \n",
       "2  [{'credit_id': '52fe466a9251416c75077a89', 'de...    Howard Deutch   \n",
       "3  [{'credit_id': '52fe44779251416c91011acb', 'de...  Forest Whitaker   \n",
       "4  [{'credit_id': '52fe44959251416c75039ed7', 'de...    Charles Shyer   \n",
       "\n",
       "                                            keywords  adult  \\\n",
       "0  jealousy|toy|boy|friendship|friends|rivalry|bo...  False   \n",
       "1  board game|disappearance|based on children's b...  False   \n",
       "2   fishing|best friend|duringcreditsstinger|old men  False   \n",
       "3  based on novel|interracial relationship|single...  False   \n",
       "4  baby|midlife crisis|confidence|aging|daughter|...  False   \n",
       "\n",
       "            belongs_to_collection    budget  ...      revenue runtime  \\\n",
       "0            Toy Story Collection  30000000  ...  373554033.0    81.0   \n",
       "1                             NaN  65000000  ...  262797249.0   104.0   \n",
       "2       Grumpy Old Men Collection         0  ...          0.0   101.0   \n",
       "3                             NaN  16000000  ...   81452156.0   127.0   \n",
       "4  Father of the Bride Collection         0  ...   76578911.0   106.0   \n",
       "\n",
       "   spoken_languages    status  \\\n",
       "0           English  Released   \n",
       "1  English|Français  Released   \n",
       "2           English  Released   \n",
       "3           English  Released   \n",
       "4           English  Released   \n",
       "\n",
       "                                             tagline  \\\n",
       "0                                                NaN   \n",
       "1          Roll the dice and unleash the excitement!   \n",
       "2  Still Yelling. Still Fighting. Still Ready for...   \n",
       "3  Friends are the people who let you be yourself...   \n",
       "4  Just When His World Is Back To Normal... He's ...   \n",
       "\n",
       "                         title  video vote_average vote_count  year  \n",
       "0                    Toy Story  False          7.7     5415.0  1995  \n",
       "1                      Jumanji  False          6.9     2413.0  1995  \n",
       "2             Grumpier Old Men  False          6.5       92.0  1995  \n",
       "3            Waiting to Exhale  False          6.1       34.0  1995  \n",
       "4  Father of the Bride Part II  False          5.7      173.0  1995  \n",
       "\n",
       "[5 rows x 31 columns]"
      ]
     },
     "execution_count": 32,
     "metadata": {},
     "output_type": "execute_result"
    }
   ],
   "source": [
    "movies_data = pd.read_csv('/home/hitesh/Desktop/Github/Movie-Recommendation-System/Movielens dataset/movie_data_final (1).csv')\n",
    "movies_data.head()"
   ]
  },
  {
   "cell_type": "code",
   "execution_count": 45,
   "metadata": {},
   "outputs": [
    {
     "data": {
      "text/html": [
       "<div>\n",
       "<style scoped>\n",
       "    .dataframe tbody tr th:only-of-type {\n",
       "        vertical-align: middle;\n",
       "    }\n",
       "\n",
       "    .dataframe tbody tr th {\n",
       "        vertical-align: top;\n",
       "    }\n",
       "\n",
       "    .dataframe thead th {\n",
       "        text-align: right;\n",
       "    }\n",
       "</style>\n",
       "<table border=\"1\" class=\"dataframe\">\n",
       "  <thead>\n",
       "    <tr style=\"text-align: right;\">\n",
       "      <th></th>\n",
       "      <th>userId</th>\n",
       "      <th>movieId</th>\n",
       "      <th>rating</th>\n",
       "      <th>timestamp</th>\n",
       "    </tr>\n",
       "  </thead>\n",
       "  <tbody>\n",
       "    <tr>\n",
       "      <th>0</th>\n",
       "      <td>1</td>\n",
       "      <td>1</td>\n",
       "      <td>4.0</td>\n",
       "      <td>964982703</td>\n",
       "    </tr>\n",
       "    <tr>\n",
       "      <th>1</th>\n",
       "      <td>1</td>\n",
       "      <td>3</td>\n",
       "      <td>4.0</td>\n",
       "      <td>964981247</td>\n",
       "    </tr>\n",
       "    <tr>\n",
       "      <th>2</th>\n",
       "      <td>1</td>\n",
       "      <td>6</td>\n",
       "      <td>4.0</td>\n",
       "      <td>964982224</td>\n",
       "    </tr>\n",
       "    <tr>\n",
       "      <th>3</th>\n",
       "      <td>1</td>\n",
       "      <td>47</td>\n",
       "      <td>5.0</td>\n",
       "      <td>964983815</td>\n",
       "    </tr>\n",
       "    <tr>\n",
       "      <th>4</th>\n",
       "      <td>1</td>\n",
       "      <td>50</td>\n",
       "      <td>5.0</td>\n",
       "      <td>964982931</td>\n",
       "    </tr>\n",
       "  </tbody>\n",
       "</table>\n",
       "</div>"
      ],
      "text/plain": [
       "   userId  movieId  rating  timestamp\n",
       "0       1        1     4.0  964982703\n",
       "1       1        3     4.0  964981247\n",
       "2       1        6     4.0  964982224\n",
       "3       1       47     5.0  964983815\n",
       "4       1       50     5.0  964982931"
      ]
     },
     "execution_count": 45,
     "metadata": {},
     "output_type": "execute_result"
    }
   ],
   "source": [
    "ratings_data = pd.read_csv('/home/hitesh/Desktop/Github/Movie-Recommendation-System/Movielens dataset/ratings.csv')\n",
    "ratings_data.head(5)"
   ]
  },
  {
   "cell_type": "code",
   "execution_count": 33,
   "metadata": {},
   "outputs": [
    {
     "name": "stdout",
     "output_type": "stream",
     "text": [
      "Movies_df Shape: (9082, 31)\n",
      "Ratings_df Shape: (95490, 4)\n"
     ]
    }
   ],
   "source": [
    "print('Movies_df Shape:',movies_data.shape)\n",
    "print('Ratings_df Shape:',ratings_data.shape)"
   ]
  },
  {
   "cell_type": "code",
   "execution_count": 34,
   "metadata": {},
   "outputs": [
    {
     "data": {
      "text/plain": [
       "(9082, 4525)"
      ]
     },
     "execution_count": 34,
     "metadata": {},
     "output_type": "execute_result"
    }
   ],
   "source": [
    "from sklearn.feature_extraction.text import TfidfVectorizer\n",
    "tfidf = TfidfVectorizer(stop_words='english')\n",
    "movies_data['director'] = movies_data['director'].fillna('')\n",
    "movies_data['director'] = movies_data['director'].str.replace('|', ' ')\n",
    "tfidf_matrix_director = tfidf.fit_transform(movies_data['director'])\n",
    "tfidf_matrix_director.shape"
   ]
  },
  {
   "cell_type": "code",
   "execution_count": 35,
   "metadata": {},
   "outputs": [
    {
     "data": {
      "text/plain": [
       "(9082, 15344)"
      ]
     },
     "execution_count": 35,
     "metadata": {},
     "output_type": "execute_result"
    }
   ],
   "source": [
    "movies_data['cast'] = movies_data['cast'].fillna('')\n",
    "movies_data['cast'] = movies_data['cast'].str.replace('|', ' ')\n",
    "tfidf_matrix_cast = tfidf.fit_transform(movies_data['cast'])\n",
    "tfidf_matrix_cast.shape"
   ]
  },
  {
   "cell_type": "code",
   "execution_count": 36,
   "metadata": {},
   "outputs": [
    {
     "data": {
      "text/plain": [
       "(9082, 8899)"
      ]
     },
     "execution_count": 36,
     "metadata": {},
     "output_type": "execute_result"
    }
   ],
   "source": [
    "movies_data['keywords'] = movies_data['keywords'].fillna('')\n",
    "movies_data['keywords'] = movies_data['keywords'].str.replace('|', ' ')\n",
    "tfidf_matrix_keywords = tfidf.fit_transform(movies_data['keywords'])\n",
    "tfidf_matrix_keywords.shape"
   ]
  },
  {
   "cell_type": "code",
   "execution_count": 37,
   "metadata": {},
   "outputs": [
    {
     "data": {
      "text/plain": [
       "(9082, 6806)"
      ]
     },
     "execution_count": 37,
     "metadata": {},
     "output_type": "execute_result"
    }
   ],
   "source": [
    "movies_data['production_companies'] = movies_data['production_companies'].fillna('')\n",
    "movies_data['production_companies'] = movies_data['production_companies'].str.replace('|', ' ')\n",
    "tfidf_matrix_pc = tfidf.fit_transform(movies_data['production_companies'])\n",
    "tfidf_matrix_pc.shape"
   ]
  },
  {
   "cell_type": "code",
   "execution_count": 38,
   "metadata": {},
   "outputs": [
    {
     "data": {
      "text/plain": [
       "(9082, 20)"
      ]
     },
     "execution_count": 38,
     "metadata": {},
     "output_type": "execute_result"
    }
   ],
   "source": [
    "genres = movies_data['genres'].str.get_dummies('|')\n",
    "genres.shape"
   ]
  },
  {
   "cell_type": "code",
   "execution_count": 39,
   "metadata": {},
   "outputs": [
    {
     "data": {
      "text/plain": [
       "(9082, 35594)"
      ]
     },
     "execution_count": 39,
     "metadata": {},
     "output_type": "execute_result"
    }
   ],
   "source": [
    "## merge all the features\n",
    "from scipy.sparse import hstack\n",
    "tfidf_matrix = hstack((tfidf_matrix_director, tfidf_matrix_cast, tfidf_matrix_keywords, tfidf_matrix_pc, genres))\n",
    "tfidf_matrix.shape"
   ]
  },
  {
   "cell_type": "code",
   "execution_count": 40,
   "metadata": {},
   "outputs": [],
   "source": [
    "import torch\n",
    "import torch.nn as nn\n",
    "import torch.nn.functional as F\n",
    "import torch.optim as optim"
   ]
  },
  {
   "cell_type": "code",
   "execution_count": 44,
   "metadata": {},
   "outputs": [
    {
     "name": "stderr",
     "output_type": "stream",
     "text": [
      "100%|██████████| 95490/95490 [00:47<00:00, 1997.66it/s]\n"
     ]
    }
   ],
   "source": [
    "import tqdm\n",
    "A = np.full((610,9082), np.nan)\n",
    "for i in tqdm.tqdm(range(len(ratings_data))):\n",
    "    try:\n",
    "        A[int(ratings_data.iloc[i][0]-1)][movies_data[movies_data['movieId'] == ratings_data.iloc[i][1]].index[0]] = ratings_data.iloc[i][2]\n",
    "    except:\n",
    "        print(i)"
   ]
  },
  {
   "cell_type": "code",
   "execution_count": 46,
   "metadata": {},
   "outputs": [],
   "source": [
    "A.shape\n",
    "A_tensor = torch.tensor(A)"
   ]
  },
  {
   "cell_type": "code",
   "execution_count": 47,
   "metadata": {},
   "outputs": [
    {
     "data": {
      "text/plain": [
       "tensor([[4.0000,    nan, 4.0000,  ...,    nan,    nan,    nan],\n",
       "        [   nan,    nan,    nan,  ...,    nan,    nan,    nan],\n",
       "        [   nan,    nan,    nan,  ...,    nan,    nan,    nan],\n",
       "        ...,\n",
       "        [2.5000, 2.0000, 2.0000,  ...,    nan,    nan,    nan],\n",
       "        [3.0000,    nan,    nan,  ...,    nan,    nan,    nan],\n",
       "        [5.0000,    nan,    nan,  ...,    nan,    nan,    nan]],\n",
       "       dtype=torch.float64)"
      ]
     },
     "execution_count": 47,
     "metadata": {},
     "output_type": "execute_result"
    }
   ],
   "source": [
    "A_tensor"
   ]
  },
  {
   "cell_type": "code",
   "execution_count": 48,
   "metadata": {},
   "outputs": [
    {
     "data": {
      "text/plain": [
       "tensor([[ True, False,  True,  ..., False, False, False],\n",
       "        [False, False, False,  ..., False, False, False],\n",
       "        [False, False, False,  ..., False, False, False],\n",
       "        ...,\n",
       "        [ True,  True,  True,  ..., False, False, False],\n",
       "        [ True, False, False,  ..., False, False, False],\n",
       "        [ True, False, False,  ..., False, False, False]])"
      ]
     },
     "execution_count": 48,
     "metadata": {},
     "output_type": "execute_result"
    }
   ],
   "source": [
    "mask = ~torch.isnan(A_tensor)\n",
    "mask"
   ]
  },
  {
   "cell_type": "code",
   "execution_count": 49,
   "metadata": {},
   "outputs": [
    {
     "data": {
      "text/plain": [
       "tensor(95490)"
      ]
     },
     "execution_count": 49,
     "metadata": {},
     "output_type": "execute_result"
    }
   ],
   "source": [
    "mask.sum()"
   ]
  },
  {
   "cell_type": "code",
   "execution_count": 53,
   "metadata": {},
   "outputs": [],
   "source": [
    "## how to conver tfidf matrix to tensor\n",
    "tfidf_matrix_tensor = torch.tensor(tfidf_matrix.todense())"
   ]
  },
  {
   "cell_type": "code",
   "execution_count": 54,
   "metadata": {},
   "outputs": [
    {
     "data": {
      "text/plain": [
       "tensor([[0., 0., 0.,  ..., 0., 0., 0.],\n",
       "        [0., 0., 0.,  ..., 0., 0., 0.],\n",
       "        [0., 0., 0.,  ..., 0., 0., 0.],\n",
       "        ...,\n",
       "        [0., 0., 0.,  ..., 0., 0., 0.],\n",
       "        [0., 0., 0.,  ..., 0., 0., 0.],\n",
       "        [0., 0., 0.,  ..., 0., 0., 0.]], dtype=torch.float64)"
      ]
     },
     "execution_count": 54,
     "metadata": {},
     "output_type": "execute_result"
    }
   ],
   "source": [
    "H = tfidf_matrix_tensor.T\n",
    "H"
   ]
  },
  {
   "cell_type": "code",
   "execution_count": 55,
   "metadata": {},
   "outputs": [
    {
     "data": {
      "text/plain": [
       "torch.Size([35594, 9082])"
      ]
     },
     "execution_count": 55,
     "metadata": {},
     "output_type": "execute_result"
    }
   ],
   "source": [
    "H.shape"
   ]
  },
  {
   "cell_type": "code",
   "execution_count": 56,
   "metadata": {},
   "outputs": [
    {
     "name": "stderr",
     "output_type": "stream",
     "text": [
      "  0%|          | 0/1000 [00:00<?, ?it/s]"
     ]
    }
   ],
   "source": [
    "W = torch.randn(A_tensor.shape[0], 35594, requires_grad=True)\n",
    "optimizer = optim.Adam([W, H], lr=0.05)\n",
    "loss_vector = []\n",
    "steps = []\n",
    "for i in tqdm.tqdm(range(1000)):\n",
    "    steps.append(i)\n",
    "    diff_matrix = torch.mm(W, H.float()) - A_tensor.float()\n",
    "    diff_vector = diff_matrix[mask]\n",
    "    loss = torch.norm(diff_vector)\n",
    "    loss_vector.append(loss.item())\n",
    "    optimizer.zero_grad()\n",
    "    loss.backward()\n",
    "    optimizer.step()\n",
    "    "
   ]
  },
  {
   "cell_type": "code",
   "execution_count": 125,
   "metadata": {},
   "outputs": [
    {
     "data": {
      "image/png": "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",
      "text/plain": [
       "<Figure size 640x480 with 1 Axes>"
      ]
     },
     "metadata": {},
     "output_type": "display_data"
    }
   ],
   "source": [
    "plt.plot(steps, loss_vector)\n",
    "plt.xlabel('Steps')\n",
    "plt.ylabel('Loss')\n",
    "plt.title('Loss vs Steps')\n",
    "plt.show()\n"
   ]
  },
  {
   "cell_type": "code",
   "execution_count": 126,
   "metadata": {},
   "outputs": [
    {
     "data": {
      "text/plain": [
       "tensor([[ 5.6664,  2.8977,  3.0132,  ...,  2.0458,  2.1567,  1.9199],\n",
       "        [ 1.8034, -0.4165,  4.9985,  ...,  2.5648,  0.0426,  3.0633],\n",
       "        [ 3.4660,  2.1683,  0.5750,  ..., -0.0644,  1.3162,  0.7507],\n",
       "        ...,\n",
       "        [ 3.4453,  1.2394,  1.8110,  ...,  1.7587,  1.5874,  1.4480],\n",
       "        [ 3.0000,  2.5141,  1.9768,  ...,  1.9751, -0.0283,  1.1930],\n",
       "        [ 4.3805,  1.6102,  2.4719,  ...,  1.9533,  1.9217,  1.7602]],\n",
       "       grad_fn=<MmBackward0>)"
      ]
     },
     "execution_count": 126,
     "metadata": {},
     "output_type": "execute_result"
    }
   ],
   "source": [
    "torch.mm(W, H.float())"
   ]
  },
  {
   "cell_type": "code",
   "execution_count": 127,
   "metadata": {},
   "outputs": [
>>>>>>> 30ce46ac43de542902eaa07473b5235f0cd75b84
    {
      "cell_type": "code",
      "execution_count": null,
      "metadata": {
        "colab": {
          "base_uri": "https://localhost:8080/"
        },
        "id": "LZ0gqTGwrs0r",
        "outputId": "4edbfbf7-dfb8-41c5-d5b0-9df4688eb7fc"
      },
      "outputs": [
        {
          "data": {
            "text/plain": [
              "(9082, 291)"
            ]
          },
          "execution_count": 7,
          "metadata": {},
          "output_type": "execute_result"
        }
      ],
      "source": [
        "movies_data['cast'] = movies_data['cast'].fillna('')\n",
        "movies_data['cast'] = movies_data['cast'].str.replace('|', ' ')\n",
        "tfidf_matrix_cast = tfidf.fit_transform(movies_data['cast'])\n",
        "tfidf_matrix_cast.shape"
      ]
<<<<<<< HEAD
    },
=======
     },
     "execution_count": 127,
     "metadata": {},
     "output_type": "execute_result"
    }
   ],
   "source": [
    "A_tensor.float()"
   ]
  },
  {
   "cell_type": "code",
   "execution_count": 106,
   "metadata": {},
   "outputs": [],
   "source": [
    "def factorize(A, k):\n",
    "    \"\"\"Factorize the matrix D into A and B\"\"\"\n",
    "    # Randomly initialize A and B\n",
    "    W = torch.randn(A.shape[0], 20, requires_grad=True)\n",
    "    H \n",
    "    # Optimizer\n",
    "    optimizer = optim.Adam([W, H], lr=0.1)\n",
    "    \n",
    "    # Train the model\n",
    "    for i in range(100):\n",
    "        # Compute the loss\n",
    "        diff_matrix = torch.mm(W, H) - A\n",
    "        diff_vector = diff_matrix[mask]\n",
    "        loss = torch.norm(diff_vector)\n",
    "        \n",
    "        # Zero the gradients\n",
    "        optimizer.zero_grad()\n",
    "        \n",
    "        # Backpropagate\n",
    "        loss.backward()\n",
    "        \n",
    "        # Update the parameters\n",
    "        optimizer.step()\n",
    "        \n",
    "    return W, H, loss"
   ]
  },
  {
   "cell_type": "code",
   "execution_count": 107,
   "metadata": {},
   "outputs": [
>>>>>>> 30ce46ac43de542902eaa07473b5235f0cd75b84
    {
      "cell_type": "code",
      "execution_count": null,
      "metadata": {
        "colab": {
          "base_uri": "https://localhost:8080/"
        },
        "id": "JgB_8pHdrs0r",
        "outputId": "417ce17b-6158-4425-c524-52594e241d8c"
      },
      "outputs": [
        {
          "data": {
            "text/plain": [
              "(9082, 353)"
            ]
          },
          "execution_count": 8,
          "metadata": {},
          "output_type": "execute_result"
        }
      ],
      "source": [
        "movies_data['keywords'] = movies_data['keywords'].fillna('')\n",
        "movies_data['keywords'] = movies_data['keywords'].str.replace('|', ' ')\n",
        "tfidf_matrix_keywords = tfidf.fit_transform(movies_data['keywords'])\n",
        "tfidf_matrix_keywords.shape"
      ]
    },
    {
      "cell_type": "code",
      "execution_count": null,
      "metadata": {
        "colab": {
          "base_uri": "https://localhost:8080/"
        },
        "id": "4L5UNEPfrs0s",
        "outputId": "abd92649-ba6c-4d94-a3d6-3a833a7210dd"
      },
      "outputs": [
        {
          "data": {
            "text/plain": [
              "(9082, 112)"
            ]
          },
          "execution_count": 9,
          "metadata": {},
          "output_type": "execute_result"
        }
      ],
      "source": [
        "movies_data['production_companies'] = movies_data['production_companies'].fillna('')\n",
        "movies_data['production_companies'] = movies_data['production_companies'].str.replace('|', ' ')\n",
        "tfidf_matrix_pc = tfidf.fit_transform(movies_data['production_companies'])\n",
        "tfidf_matrix_pc.shape"
      ]
    },
    {
      "cell_type": "code",
      "execution_count": null,
      "metadata": {
        "colab": {
          "base_uri": "https://localhost:8080/"
        },
        "id": "4MGWbZCXrs0t",
        "outputId": "3bba8927-d8f3-4dc0-cd73-247dfca48b4b"
      },
      "outputs": [
        {
          "data": {
            "text/plain": [
              "(9082, 20)"
            ]
          },
          "execution_count": 10,
          "metadata": {},
          "output_type": "execute_result"
        }
      ],
      "source": [
        "genres = movies_data['genres'].str.get_dummies('|')\n",
        "genres.shape"
      ]
    },
    {
      "cell_type": "code",
      "execution_count": null,
      "metadata": {
        "id": "A4YDufrPrs0v"
      },
      "outputs": [],
      "source": [
        "users_no = ratings_data['userId'].unique().shape[0]\n",
        "movies_no = movies_data['movieId'].unique().shape[0]"
      ]
    },
    {
      "cell_type": "code",
      "execution_count": null,
      "metadata": {
        "id": "NAtw94Rhrs0w"
      },
      "outputs": [],
      "source": [
        "import torch\n",
        "import torch.nn as nn\n",
        "import torch.nn.functional as F\n",
        "import torch.optim as optim\n",
        "import tqdm"
      ]
    },
    {
      "cell_type": "code",
      "execution_count": null,
      "metadata": {
        "id": "eMGNJcV2rs0x"
      },
      "outputs": [],
      "source": [
        "def matrix(users_no,movie_no,ratings_data,movies_data):\n",
        "    A = np.full((users_no, movie_no), np.nan)\n",
        "    for i in tqdm.tqdm(range(len(ratings_data))):\n",
        "        A[int(ratings_data.iloc[i][0]-1)][movies_data[movies_data['movieId'] == ratings_data.iloc[i][1]].index[0]] = ratings_data.iloc[i][2]\n",
        "    A_tensor = torch.tensor(A)\n",
        "    mask = ~torch.isnan(A_tensor)\n",
        "    return A_tensor,mask"
      ]
    },
    {
      "cell_type": "code",
      "execution_count": null,
      "metadata": {
        "colab": {
          "base_uri": "https://localhost:8080/"
        },
        "id": "myqZ86Wwrs0y",
        "outputId": "1b4740f2-3a2a-4ac6-b66b-5bfd8cac0c29"
      },
      "outputs": [
        {
          "name": "stderr",
          "output_type": "stream",
          "text": [
            "100%|██████████| 76392/76392 [01:08<00:00, 1116.88it/s]\n"
          ]
        }
      ],
      "source": [
        "A_tensor_train,mask_train = matrix(users_no,movies_no,ratings_train,movies_data)"
      ]
    },
    {
      "cell_type": "code",
      "execution_count": null,
      "metadata": {
        "colab": {
          "base_uri": "https://localhost:8080/"
        },
        "id": "Q78aU4snqq9x",
        "outputId": "5227b8cb-c715-4fcd-99d7-626cdb8893ce"
      },
      "outputs": [
        {
          "name": "stderr",
          "output_type": "stream",
          "text": [
            "100%|██████████| 19098/19098 [00:15<00:00, 1211.86it/s]\n"
          ]
        }
      ],
      "source": [
        "A_tensor_test,mask_test = matrix(users_no,movies_no,ratings_test,movies_data)"
      ]
    },
    {
      "cell_type": "code",
      "execution_count": null,
      "metadata": {
        "id": "mmMnMxCqrs0z"
      },
      "outputs": [],
      "source": [
        "def whmatrix(A_tensor,mask,movie_matrix,user_no):\n",
        "    try:\n",
        "        H = torch.tensor(movie_matrix.values).T\n",
        "    except:\n",
        "        try:\n",
        "            H = torch.tensor(movie_matrix.todense()).T\n",
        "        except:\n",
        "            print(\"Error: invalid movie matrix format\")\n",
        "            return None\n",
        "    W = torch.randn(user_no,H.shape[0],requires_grad=True)\n",
        "    return W,H"
      ]
    },
    {
      "cell_type": "code",
      "execution_count": null,
      "metadata": {
        "id": "tz0ITQRtrs00"
      },
      "outputs": [],
      "source": [
        "def loss_func(A_tensor_train,mask_train,A_tensor_test,mask_test,W,H,lr,steps_no):\n",
        "    optimizer = optim.Adam([W, H], lr)\n",
        "    training_loss_vector = []\n",
        "    steps_vector = []\n",
        "    validation_loss_vector = []\n",
        "    for i in tqdm.tqdm(range(steps_no)):\n",
        "        steps_vector.append(i)\n",
        "        diff_matrix_train = torch.mm(W, H.float()) - A_tensor_train.float()\n",
        "        diff_vector_train = diff_matrix_train[mask_train]\n",
        "        train_loss = torch.norm(diff_vector_train)\n",
        "        training_loss_vector.append(train_loss.item())\n",
        "        pred_matrix = 5*F.sigmoid(torch.mm(W,H.float()))\n",
        "\n",
        "        diff_matrix_test = torch.mm(W, H.float()) - A_tensor_test.float()\n",
        "        diff_vector_test = diff_matrix_test[mask_test]\n",
        "        test_loss = torch.norm(diff_vector_test)\n",
        "        validation_loss_vector.append(test_loss.item())\n",
        "\n",
        "        optimizer.zero_grad()\n",
        "        train_loss.backward()\n",
        "        optimizer.step()\n",
        "    return training_loss_vector,validation_loss_vector,steps_vector"
      ]
    },
    {
      "cell_type": "code",
      "execution_count": null,
      "metadata": {
        "colab": {
          "base_uri": "https://localhost:8080/"
        },
        "id": "U6-mcIl_rs01",
        "outputId": "c9396795-2cb6-4dd5-bf20-1e6eaafd7a31"
      },
      "outputs": [
        {
          "data": {
            "text/plain": [
              "(9082, 819)"
            ]
          },
          "execution_count": 18,
          "metadata": {},
          "output_type": "execute_result"
        }
      ],
      "source": [
        "from scipy.sparse import hstack\n",
        "tfidf_matrix = hstack((tfidf_matrix_director, tfidf_matrix_cast, tfidf_matrix_keywords, tfidf_matrix_pc, genres))\n",
        "tfidf_matrix.shape"
      ]
    },
    {
      "cell_type": "markdown",
      "metadata": {
        "id": "Ov1S065TtWng"
      },
      "source": [
        "### Genres (One hot encoding)\n"
      ]
    },
    {
      "cell_type": "code",
      "execution_count": null,
      "metadata": {
        "colab": {
          "base_uri": "https://localhost:8080/"
        },
        "id": "uxZm2uMguMp4",
        "outputId": "fe866679-66ea-45f2-b123-88b3370c287a"
      },
      "outputs": [
        {
          "data": {
            "text/plain": [
              "(9082, 20)"
            ]
          },
          "execution_count": 19,
          "metadata": {},
          "output_type": "execute_result"
        }
      ],
      "source": [
        "genres.shape"
      ]
    },
    {
      "cell_type": "code",
      "execution_count": null,
      "metadata": {
        "colab": {
          "base_uri": "https://localhost:8080/"
        },
        "id": "hJsMvOd3rs02",
        "outputId": "92b72a5e-a99b-4c31-80de-adea69b30b7d"
      },
      "outputs": [
        {
          "name": "stderr",
          "output_type": "stream",
          "text": [
            "100%|██████████| 100/100 [00:13<00:00,  7.41it/s]\n"
          ]
        }
      ],
      "source": [
        "genres = genres\n",
        "W,H = whmatrix(A_tensor_train,mask_train,genres,users_no)\n",
        "training_loss_vector_genres,validation_loss_vector_genres,steps_vector_genres = loss_func(A_tensor_train,mask_train,A_tensor_test,mask_test,W,H,0.05,100)"
      ]
    },
    {
      "cell_type": "code",
      "execution_count": null,
      "metadata": {
        "colab": {
          "base_uri": "https://localhost:8080/",
          "height": 472
        },
        "id": "Tw3zy29Crs02",
        "outputId": "e0108d28-5f5d-4693-e914-b099e4938d1c"
      },
      "outputs": [
        {
          "data": {
            "image/png": "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\n",
            "text/plain": [
              "<Figure size 640x480 with 1 Axes>"
            ]
          },
          "metadata": {},
          "output_type": "display_data"
        }
      ],
      "source": [
        "plt.plot(steps_vector_genres, training_loss_vector_genres, label='Training Loss')\n",
        "plt.plot(steps_vector_genres, validation_loss_vector_genres, label='Validation Loss')\n",
        "plt.xlabel('Steps')\n",
        "plt.ylabel('Loss')\n",
        "plt.title(\"Steps vs loss using Genres\")\n",
        "plt.legend()\n",
        "plt.show()"
      ]
    },
    {
      "cell_type": "code",
      "execution_count": null,
      "metadata": {
        "colab": {
          "base_uri": "https://localhost:8080/"
        },
        "id": "Yidm8dXXrs02",
        "outputId": "0c17969a-cdba-40c6-afd3-554df4a5470e"
      },
      "outputs": [
        {
          "name": "stderr",
          "output_type": "stream",
          "text": [
            "100%|██████████| 19098/19098 [00:23<00:00, 811.14it/s]"
          ]
        },
        {
          "name": "stdout",
          "output_type": "stream",
          "text": [
            "\n",
            "rmse: 1.5351\n"
          ]
        },
        {
          "name": "stderr",
          "output_type": "stream",
          "text": [
            "\n"
          ]
        }
      ],
      "source": [
        "pred_matrix = 5*F.sigmoid(torch.mm(W,H.float()))\n",
        "sum =0\n",
        "for i in tqdm.tqdm(range(len(ratings_test))):\n",
        "    sum = sum + abs(ratings_test.iloc[i][2] - pred_matrix[int(ratings_test.iloc[i][0]-1)][movies_data[movies_data['movieId'] == ratings_test.iloc[i][1]].index[0]].item())**2\n",
        "rmse = (sum/len(ratings_test))**0.5\n",
        "print(\"\\nrmse: %.4f\" % rmse)"
      ]
    },
    {
      "cell_type": "markdown",
      "metadata": {
        "id": "uhK1VBvpxV18"
      },
      "source": [
        "### Director + Cast + Production Companies"
      ]
    },
    {
      "cell_type": "code",
      "execution_count": null,
      "metadata": {
        "colab": {
          "base_uri": "https://localhost:8080/"
        },
        "id": "TF8OXHS8xVZc",
        "outputId": "9a1ae649-74d9-4b4a-9489-3eabdd3572df"
      },
      "outputs": [
        {
          "data": {
            "text/plain": [
              "(9082, 446)"
            ]
          },
          "execution_count": 122,
          "metadata": {},
          "output_type": "execute_result"
        }
      ],
      "source": [
        "from scipy.sparse import hstack\n",
        "tfidf_matrix = hstack((tfidf_matrix_director, tfidf_matrix_cast, tfidf_matrix_pc))\n",
        "tfidf_matrix.shape"
      ]
    },
    {
      "cell_type": "code",
      "execution_count": null,
      "metadata": {
        "colab": {
          "base_uri": "https://localhost:8080/"
        },
        "id": "UF7bKOCHxG84",
        "outputId": "d5b3d862-d65e-4df1-abdf-c9a694825f0a"
      },
      "outputs": [
        {
          "name": "stderr",
          "output_type": "stream",
          "text": [
            "100%|██████████| 100/100 [00:50<00:00,  1.97it/s]\n"
          ]
        }
      ],
      "source": [
        "genres = tfidf_matrix\n",
        "W,H = whmatrix(A_tensor_train,mask_train,genres,users_no)\n",
        "training_loss_vector_dcp,validation_loss_vector_dcp,steps_vector_dcp = loss_func(A_tensor_train,mask_train,A_tensor_test,mask_test,W,H,0.05,100)"
      ]
    },
    {
      "cell_type": "code",
      "execution_count": null,
      "metadata": {
        "colab": {
          "base_uri": "https://localhost:8080/",
          "height": 472
        },
        "id": "kQr-934vvA2E",
        "outputId": "478e66ae-7de3-4018-b2cd-7616fe7e15bc"
      },
      "outputs": [
        {
          "data": {
            "image/png": "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\n",
            "text/plain": [
              "<Figure size 640x480 with 1 Axes>"
            ]
          },
          "metadata": {},
          "output_type": "display_data"
        }
      ],
      "source": [
        "plt.plot(steps_vector_dcp, training_loss_vector_dcp, label='Training Loss')\n",
        "plt.plot(steps_vector_dcp, validation_loss_vector_dcp, label='Validation Loss')\n",
        "plt.xlabel('Steps')\n",
        "plt.ylabel('Loss')\n",
        "plt.title(\"Steps vs loss using Director + Cast + Production Companies\")\n",
        "plt.legend()\n",
        "plt.show()"
      ]
    },
    {
      "cell_type": "code",
      "execution_count": null,
      "metadata": {
        "colab": {
          "base_uri": "https://localhost:8080/"
        },
        "id": "dO4hYpVgxpUp",
        "outputId": "bc8b9bfb-5cfb-4fa5-c746-2b1c2a83f40e"
      },
      "outputs": [
        {
          "name": "stderr",
          "output_type": "stream",
          "text": [
            "100%|██████████| 19098/19098 [00:18<00:00, 1039.85it/s]"
          ]
        },
        {
          "name": "stdout",
          "output_type": "stream",
          "text": [
            "\n",
            "rmse: 1.5652\n"
          ]
        },
        {
          "name": "stderr",
          "output_type": "stream",
          "text": [
            "\n"
          ]
        }
      ],
      "source": [
        "pred_matrix = 5*F.sigmoid(torch.mm(W,H.float()))\n",
        "sum =0\n",
        "for i in tqdm.tqdm(range(len(ratings_test))):\n",
        "    sum = sum + abs(ratings_test.iloc[i][2] - pred_matrix[int(ratings_test.iloc[i][0]-1)][movies_data[movies_data['movieId'] == ratings_test.iloc[i][1]].index[0]].item())**2\n",
        "rmse = (sum/len(ratings_test))**0.5\n",
        "print(\"\\nrmse: %.4f\" % rmse)"
      ]
    },
    {
      "cell_type": "markdown",
      "metadata": {
        "id": "cSqdpplf_B84"
      },
      "source": [
        "### Director + Cast + Production Companies + Keywords + Genres"
      ]
    },
    {
      "cell_type": "code",
      "execution_count": null,
      "metadata": {
        "colab": {
          "base_uri": "https://localhost:8080/"
        },
        "id": "6JiCksZV_BmN",
        "outputId": "9b919c68-5c82-4597-f95a-66960e9c3cc8"
      },
      "outputs": [
        {
          "data": {
            "text/plain": [
              "(9082, 1245)"
            ]
          },
          "execution_count": 131,
          "metadata": {},
          "output_type": "execute_result"
        }
      ],
      "source": [
        "from scipy.sparse import hstack\n",
        "tfidf_matrix = hstack((tfidf_matrix_director, tfidf_matrix_cast, tfidf_matrix_keywords, tfidf_matrix_pc, genres))\n",
        "tfidf_matrix.shape"
      ]
    },
    {
      "cell_type": "code",
      "execution_count": null,
      "metadata": {
        "colab": {
          "base_uri": "https://localhost:8080/"
        },
        "id": "tGfWyt-h_ukv",
        "outputId": "8881d2e6-654f-45f3-d5c2-d77431afd3d9"
      },
      "outputs": [
        {
          "name": "stderr",
          "output_type": "stream",
          "text": [
            "100%|██████████| 100/100 [01:55<00:00,  1.16s/it]\n"
          ]
        }
      ],
      "source": [
        "genres = tfidf_matrix\n",
        "W,H = whmatrix(A_tensor_train,mask_train,genres,users_no)\n",
        "training_loss_vector_dcckg,validation_loss_vector_dcckg,steps_vector_dcckg = loss_func(A_tensor_train,mask_train,A_tensor_test,mask_test,W,H,0.05,100)"
      ]
    },
    {
      "cell_type": "code",
      "execution_count": null,
      "metadata": {
        "colab": {
          "base_uri": "https://localhost:8080/",
          "height": 472
        },
        "id": "XHOqpsY6A3i1",
        "outputId": "e2ce089e-f516-4c5e-afd9-20d19091ac97"
      },
      "outputs": [
        {
          "data": {
            "image/png": "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\n",
            "text/plain": [
              "<Figure size 640x480 with 1 Axes>"
            ]
          },
          "metadata": {},
          "output_type": "display_data"
        }
      ],
      "source": [
        "plt.plot(steps_vector_dcckg, training_loss_vector_dcckg, label='Training Loss')\n",
        "plt.plot(steps_vector_dcckg, validation_loss_vector_dcckg, label='Validation Loss')\n",
        "plt.xlabel('Steps')\n",
        "plt.ylabel('Loss')\n",
        "plt.title(\"Steps vs loss using Director + Cast + Production Companies + Keywords + Genres\")\n",
        "plt.legend()\n",
        "plt.show()"
      ]
    },
    {
      "cell_type": "code",
      "execution_count": null,
      "metadata": {
        "colab": {
          "base_uri": "https://localhost:8080/"
        },
        "id": "23eBdiEuA3cU",
        "outputId": "78f42360-b191-45ec-8d7e-9e19ab33a059"
      },
      "outputs": [
        {
          "name": "stderr",
          "output_type": "stream",
          "text": [
            "100%|██████████| 19098/19098 [00:15<00:00, 1240.82it/s]"
          ]
        },
        {
          "name": "stdout",
          "output_type": "stream",
          "text": [
            "\n",
            "rmse: 1.6008\n"
          ]
        },
        {
          "name": "stderr",
          "output_type": "stream",
          "text": [
            "\n"
          ]
        }
      ],
      "source": [
        "pred_matrix = 5*F.sigmoid(torch.mm(W,H.float()))\n",
        "sum =0\n",
        "for i in tqdm.tqdm(range(len(ratings_test))):\n",
        "    sum = sum + abs(ratings_test.iloc[i][2] - pred_matrix[int(ratings_test.iloc[i][0]-1)][movies_data[movies_data['movieId'] == ratings_test.iloc[i][1]].index[0]].item())**2\n",
        "rmse = (sum/len(ratings_test))**0.5\n",
        "print(\"\\nrmse: %.4f\" % rmse)"
      ]
    },
    {
      "cell_type": "markdown",
      "metadata": {
        "id": "V4037iWVPxa6"
      },
      "source": [
        "### Final Plot for Comparison"
      ]
    },
    {
      "cell_type": "code",
      "execution_count": null,
      "metadata": {
        "colab": {
          "base_uri": "https://localhost:8080/",
          "height": 472
        },
        "id": "laLcCkgU-kNw",
        "outputId": "523eac14-8a4b-4c3e-8fb4-d4c0187e1691"
      },
      "outputs": [
        {
          "data": {
            "image/png": "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\n",
            "text/plain": [
              "<Figure size 640x480 with 1 Axes>"
            ]
          },
          "metadata": {},
          "output_type": "display_data"
        }
      ],
      "source": [
        "plt.plot(steps_vector_genres, validation_loss_vector_genres, label='Genre loss')\n",
        "plt.plot(steps_vector_dcp, validation_loss_vector_dcp, label='DCP loss')\n",
        "plt.plot(steps_vector_dcckg, validation_loss_vector_dcckg, label='DCPKG loss')\n",
        "plt.title('Validation Loss vs. Steps for different content')\n",
        "plt.xlabel('Steps')\n",
        "plt.ylabel('Loss')\n",
        "plt.legend()\n",
        "plt.show()"
      ]
    },
    {
      "cell_type": "markdown",
      "metadata": {
        "id": "uVGJlY9NCN5x"
      },
      "source": [
        "## Get Final Movie Predictions"
      ]
    },
    {
      "cell_type": "code",
      "execution_count": null,
      "metadata": {
        "id": "j-t9CQM7CNsy"
      },
      "outputs": [],
      "source": [
        "def get_recommendation(userid,pred_matrix):\n",
        "    movie_ids = ratings_data[ratings_data['userId'] == 1]['movieId']\n",
        "    movie_index = movies_data[movies_data['movieId'].isin(movie_ids)].index\n",
        "    for i in movie_index:\n",
        "        pred_matrix[userid-1][i] = 1e-9\n",
        "    user_row = pred_matrix[userid-1]\n",
        "    sorted_tensor, indices = torch.sort(user_row, descending=True)\n",
        "    for i in indices[:10]:\n",
        "        print(movies_data.iloc[i.item()][-5])"
      ]
    },
    {
      "cell_type": "code",
      "execution_count": null,
      "metadata": {
        "id": "StBu8-Uj-knj"
      },
      "outputs": [],
      "source": [
        "get_recommendation(1,pred_matrix)"
      ]
    }
  ],
  "metadata": {
    "accelerator": "GPU",
    "colab": {
      "provenance": []
    },
    "gpuClass": "standard",
    "kernelspec": {
      "display_name": "Python 3",
      "language": "python",
      "name": "python3"
    },
    "language_info": {
      "codemirror_mode": {
        "name": "ipython",
        "version": 3
      },
      "file_extension": ".py",
      "mimetype": "text/x-python",
      "name": "python",
      "nbconvert_exporter": "python",
      "pygments_lexer": "ipython3",
      "version": "3.9.12"
    }
  },
  "nbformat": 4,
  "nbformat_minor": 0
}